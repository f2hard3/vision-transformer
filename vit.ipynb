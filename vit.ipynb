{
 "cells": [
  {
   "cell_type": "code",
   "execution_count": 32,
   "metadata": {},
   "outputs": [
    {
     "name": "stdout",
     "output_type": "stream",
     "text": [
      "Testing Falttened2DPatches..\n",
      "Files already downloaded and verified\n",
      "Files already downloaded and verified\n",
      "images.size(), labels.size(): torch.Size([64, 3, 1024]) torch.Size([64])\n",
      "Sample image size: torch.Size([16, 3, 8, 8])\n",
      "Clipping input data to the valid range for imshow with RGB data ([0..1] for floats or [0..255] for integers).\n"
     ]
    }
   ],
   "source": [
    "!python patchdata.py"
   ]
  },
  {
   "cell_type": "code",
   "execution_count": 40,
   "metadata": {},
   "outputs": [
    {
     "name": "stdout",
     "output_type": "stream",
     "text": [
      "Namespace(batch_size=128, dataname='cifar10', drop_rate=0.1, epochs=501, img_size=32, latent_vec_dim=128, lr=0.002, mode='train', num_classes=10, num_heads=8, num_layers=12, patch_size=4, pretrained=1, save_acc=50, weight_decay=0.0002)\n",
      "Files already downloaded and verified\n",
      "Files already downloaded and verified\n",
      "[0] train loss: 0.696, validation loss: 0.684, validation acc 75.86 %\n",
      "[1] train loss: 0.690, validation loss: 0.706, validation acc 76.46 %\n",
      "[2] train loss: 0.683, validation loss: 0.679, validation acc 76.20 %\n",
      "[3] train loss: 0.678, validation loss: 0.719, validation acc 76.02 %\n",
      "[4] train loss: 0.689, validation loss: 0.676, validation acc 76.42 %\n",
      "[5] train loss: 0.684, validation loss: 0.714, validation acc 76.02 %\n",
      "[6] train loss: 0.683, validation loss: 0.690, validation acc 75.94 %\n",
      "[7] train loss: 0.681, validation loss: 0.701, validation acc 75.78 %\n",
      "[8] train loss: 0.678, validation loss: 0.676, validation acc 77.02 %\n",
      "[9] train loss: 0.681, validation loss: 0.690, validation acc 76.12 %\n",
      "[10] train loss: 0.680, validation loss: 0.713, validation acc 75.40 %\n",
      "[11] train loss: 0.692, validation loss: 0.674, validation acc 76.22 %\n",
      "[12] train loss: 0.686, validation loss: 0.707, validation acc 75.24 %\n",
      "[13] train loss: 0.672, validation loss: 0.711, validation acc 75.06 %\n",
      "[14] train loss: 0.680, validation loss: 0.756, validation acc 74.38 %\n",
      "[15] train loss: 0.673, validation loss: 0.690, validation acc 76.38 %\n",
      "[16] train loss: 0.679, validation loss: 0.687, validation acc 76.14 %\n",
      "[17] train loss: 0.675, validation loss: 0.713, validation acc 76.04 %\n",
      "[18] train loss: 0.679, validation loss: 0.689, validation acc 75.72 %\n",
      "[19] train loss: 0.681, validation loss: 0.706, validation acc 75.46 %\n",
      "[20] train loss: 0.675, validation loss: 0.717, validation acc 74.84 %\n",
      "[21] train loss: 0.678, validation loss: 0.676, validation acc 77.10 %\n",
      "[22] train loss: 0.680, validation loss: 0.681, validation acc 77.10 %\n",
      "[23] train loss: 0.670, validation loss: 0.706, validation acc 76.26 %\n",
      "[24] train loss: 0.673, validation loss: 0.690, validation acc 76.00 %\n",
      "[25] train loss: 0.674, validation loss: 0.680, validation acc 76.40 %\n",
      "[26] train loss: 0.671, validation loss: 0.683, validation acc 76.30 %\n",
      "[27] train loss: 0.665, validation loss: 0.723, validation acc 75.12 %\n",
      "[28] train loss: 0.673, validation loss: 0.720, validation acc 75.08 %\n",
      "[29] train loss: 0.665, validation loss: 0.683, validation acc 76.08 %\n",
      "[30] train loss: 0.668, validation loss: 0.712, validation acc 75.18 %\n",
      "[31] train loss: 0.666, validation loss: 0.682, validation acc 77.02 %\n",
      "[32] train loss: 0.663, validation loss: 0.674, validation acc 76.94 %\n",
      "[33] train loss: 0.675, validation loss: 0.710, validation acc 75.54 %\n",
      "[34] train loss: 0.670, validation loss: 0.681, validation acc 76.78 %\n",
      "[35] train loss: 0.671, validation loss: 0.669, validation acc 76.72 %\n",
      "[36] train loss: 0.664, validation loss: 0.681, validation acc 76.92 %\n",
      "[37] train loss: 0.669, validation loss: 0.722, validation acc 75.06 %\n",
      "[38] train loss: 0.667, validation loss: 0.694, validation acc 75.70 %\n",
      "[39] train loss: 0.663, validation loss: 0.736, validation acc 75.12 %\n",
      "[40] train loss: 0.668, validation loss: 0.678, validation acc 77.08 %\n",
      "[41] train loss: 0.659, validation loss: 0.707, validation acc 76.16 %\n",
      "[42] train loss: 0.671, validation loss: 0.690, validation acc 76.80 %\n",
      "[43] train loss: 0.666, validation loss: 0.676, validation acc 76.44 %\n",
      "[44] train loss: 0.664, validation loss: 0.689, validation acc 75.52 %\n",
      "[45] train loss: 0.672, validation loss: 0.697, validation acc 76.08 %\n",
      "[46] train loss: 0.654, validation loss: 0.691, validation acc 75.60 %\n",
      "[47] train loss: 0.672, validation loss: 0.692, validation acc 76.38 %\n",
      "[48] train loss: 0.665, validation loss: 0.670, validation acc 76.80 %\n",
      "[49] train loss: 0.656, validation loss: 0.732, validation acc 75.76 %\n",
      "[50] train loss: 0.666, validation loss: 0.690, validation acc 76.02 %\n",
      "[51] train loss: 0.659, validation loss: 0.686, validation acc 76.00 %\n",
      "[52] train loss: 0.661, validation loss: 0.683, validation acc 76.06 %\n",
      "[53] train loss: 0.661, validation loss: 0.680, validation acc 76.76 %\n",
      "[54] train loss: 0.653, validation loss: 0.697, validation acc 76.02 %\n",
      "[55] train loss: 0.662, validation loss: 0.681, validation acc 76.88 %\n",
      "[56] train loss: 0.661, validation loss: 0.670, validation acc 77.28 %\n",
      "[57] train loss: 0.659, validation loss: 0.681, validation acc 76.34 %\n",
      "[58] train loss: 0.657, validation loss: 0.690, validation acc 76.34 %\n",
      "[59] train loss: 0.654, validation loss: 0.668, validation acc 77.34 %\n",
      "[60] train loss: 0.651, validation loss: 0.691, validation acc 75.44 %\n",
      "[61] train loss: 0.667, validation loss: 0.661, validation acc 77.32 %\n",
      "[62] train loss: 0.658, validation loss: 0.714, validation acc 76.10 %\n",
      "^C\n",
      "Traceback (most recent call last):\n",
      "  File \"vit.py\", line 61, in <module>\n",
      "    for img, labels in trainloader:\n",
      "  File \"/opt/conda/lib/python3.8/site-packages/torch/utils/data/dataloader.py\", line 681, in __next__\n",
      "    data = self._next_data()\n",
      "  File \"/opt/conda/lib/python3.8/site-packages/torch/utils/data/dataloader.py\", line 719, in _next_data\n",
      "    data = self._dataset_fetcher.fetch(index)  # may raise StopIteration\n",
      "  File \"/opt/conda/lib/python3.8/site-packages/torch/utils/data/_utils/fetch.py\", line 49, in fetch\n",
      "    data = [self.dataset[idx] for idx in possibly_batched_index]\n",
      "  File \"/opt/conda/lib/python3.8/site-packages/torch/utils/data/_utils/fetch.py\", line 49, in <listcomp>\n",
      "    data = [self.dataset[idx] for idx in possibly_batched_index]\n",
      "  File \"/opt/conda/lib/python3.8/site-packages/torchvision/datasets/cifar.py\", line 118, in __getitem__\n",
      "    img = self.transform(img)\n",
      "  File \"/opt/conda/lib/python3.8/site-packages/torchvision/transforms/transforms.py\", line 95, in __call__\n",
      "    img = t(img)\n",
      "  File \"/opt/conda/lib/python3.8/site-packages/torch/nn/modules/module.py\", line 1185, in _call_impl\n",
      "    return forward_call(*input, **kwargs)\n",
      "  File \"/opt/conda/lib/python3.8/site-packages/torchvision/transforms/transforms.py\", line 661, in forward\n",
      "    img = F.pad(img, self.padding, self.fill, self.padding_mode)\n",
      "  File \"/opt/conda/lib/python3.8/site-packages/torchvision/transforms/functional.py\", line 520, in pad\n",
      "    return F_pil.pad(img, padding=padding, fill=fill, padding_mode=padding_mode)\n",
      "  File \"/opt/conda/lib/python3.8/site-packages/torchvision/transforms/functional_pil.py\", line 184, in pad\n",
      "    return ImageOps.expand(img, border=padding, **opts)\n",
      "  File \"/opt/conda/lib/python3.8/site-packages/PIL/ImageOps.py\", line 393, in expand\n",
      "    left, top, right, bottom = _border(border)\n",
      "KeyboardInterrupt\n"
     ]
    }
   ],
   "source": [
    "!python vit.py --pretrained 1 --drop_rate 0.1 --weight_decay 2e-4"
   ]
  },
  {
   "cell_type": "code",
   "execution_count": 41,
   "metadata": {},
   "outputs": [
    {
     "name": "stdout",
     "output_type": "stream",
     "text": [
      "Namespace(batch_size=128, dataname='cifar10', drop_rate=0.1, epochs=501, img_size=32, latent_vec_dim=128, lr=0.002, mode='evaluation', num_classes=10, num_heads=8, num_layers=12, patch_size=4, pretrained=1, save_acc=50, weight_decay=0)\n",
      "Files already downloaded and verified\n",
      "Files already downloaded and verified\n",
      "test loss: 0.695, test acc 76.32 %\n"
     ]
    }
   ],
   "source": [
    "!python vit.py --pretrained 1 --mode 'evaluation'"
   ]
  },
  {
   "cell_type": "code",
   "execution_count": null,
   "metadata": {},
   "outputs": [],
   "source": []
  }
 ],
 "metadata": {
  "kernelspec": {
   "display_name": "base",
   "language": "python",
   "name": "python3"
  },
  "language_info": {
   "codemirror_mode": {
    "name": "ipython",
    "version": 3
   },
   "file_extension": ".py",
   "mimetype": "text/x-python",
   "name": "python",
   "nbconvert_exporter": "python",
   "pygments_lexer": "ipython3",
   "version": "3.8.13"
  },
  "orig_nbformat": 4
 },
 "nbformat": 4,
 "nbformat_minor": 2
}
